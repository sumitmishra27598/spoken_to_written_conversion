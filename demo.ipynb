{
  "nbformat": 4,
  "nbformat_minor": 0,
  "metadata": {
    "colab": {
      "name": "demo",
      "provenance": [],
      "collapsed_sections": []
    },
    "kernelspec": {
      "name": "python3",
      "display_name": "Python 3"
    }
  },
  "cells": [
    {
      "cell_type": "code",
      "metadata": {
        "colab": {
          "base_uri": "https://localhost:8080/"
        },
        "id": "VNBr_SM5DaMi",
        "outputId": "cb902b09-c440-428a-f7af-b892d3d52851"
      },
      "source": [
        "!git clone https://github.com/sumitmishra27598/practice.git"
      ],
      "execution_count": null,
      "outputs": [
        {
          "output_type": "stream",
          "text": [
            "Cloning into 'practice'...\n",
            "remote: Enumerating objects: 15, done.\u001b[K\n",
            "remote: Counting objects: 100% (15/15), done.\u001b[K\n",
            "remote: Compressing objects: 100% (13/13), done.\u001b[K\n",
            "remote: Total 15 (delta 1), reused 0 (delta 0), pack-reused 0\u001b[K\n",
            "Unpacking objects: 100% (15/15), done.\n"
          ],
          "name": "stdout"
        }
      ]
    },
    {
      "cell_type": "code",
      "metadata": {
        "colab": {
          "base_uri": "https://localhost:8080/"
        },
        "id": "LIdumkJJGFYs",
        "outputId": "c216f932-e35e-4247-f6a3-315acbcf861d"
      },
      "source": [
        "cd practice/"
      ],
      "execution_count": null,
      "outputs": [
        {
          "output_type": "stream",
          "text": [
            "/content/practice\n"
          ],
          "name": "stdout"
        }
      ]
    },
    {
      "cell_type": "code",
      "metadata": {
        "colab": {
          "base_uri": "https://localhost:8080/"
        },
        "id": "UlWrlOqfGGne",
        "outputId": "b9175d1a-34b2-499b-a39f-85828c3850e4"
      },
      "source": [
        "ls"
      ],
      "execution_count": null,
      "outputs": [
        {
          "output_type": "stream",
          "text": [
            "README.md  setup.py  \u001b[0m\u001b[01;34mspoken_to_written\u001b[0m/\n"
          ],
          "name": "stdout"
        }
      ]
    },
    {
      "cell_type": "code",
      "metadata": {
        "colab": {
          "base_uri": "https://localhost:8080/"
        },
        "id": "6rKyhAyfGTmj",
        "outputId": "92bcc145-e2ff-4620-cdde-ea0d491ad71f"
      },
      "source": [
        "!python3 setup.py install"
      ],
      "execution_count": null,
      "outputs": [
        {
          "output_type": "stream",
          "text": [
            "running install\n",
            "running bdist_egg\n",
            "running egg_info\n",
            "creating spoken_to_written.egg-info\n",
            "writing spoken_to_written.egg-info/PKG-INFO\n",
            "writing dependency_links to spoken_to_written.egg-info/dependency_links.txt\n",
            "writing top-level names to spoken_to_written.egg-info/top_level.txt\n",
            "writing manifest file 'spoken_to_written.egg-info/SOURCES.txt'\n",
            "package init file 'spoken_to_written/__init__.py' not found (or not a regular file)\n",
            "writing manifest file 'spoken_to_written.egg-info/SOURCES.txt'\n",
            "installing library code to build/bdist.linux-x86_64/egg\n",
            "running install_lib\n",
            "running build_py\n",
            "creating build\n",
            "creating build/lib\n",
            "creating build/lib/spoken_to_written\n",
            "copying spoken_to_written/spoken_to_written.py -> build/lib/spoken_to_written\n",
            "copying spoken_to_written/conversion_rule.py -> build/lib/spoken_to_written\n",
            "creating build/bdist.linux-x86_64\n",
            "creating build/bdist.linux-x86_64/egg\n",
            "creating build/bdist.linux-x86_64/egg/spoken_to_written\n",
            "copying build/lib/spoken_to_written/spoken_to_written.py -> build/bdist.linux-x86_64/egg/spoken_to_written\n",
            "copying build/lib/spoken_to_written/conversion_rule.py -> build/bdist.linux-x86_64/egg/spoken_to_written\n",
            "byte-compiling build/bdist.linux-x86_64/egg/spoken_to_written/spoken_to_written.py to spoken_to_written.cpython-36.pyc\n",
            "byte-compiling build/bdist.linux-x86_64/egg/spoken_to_written/conversion_rule.py to conversion_rule.cpython-36.pyc\n",
            "creating build/bdist.linux-x86_64/egg/EGG-INFO\n",
            "copying spoken_to_written.egg-info/PKG-INFO -> build/bdist.linux-x86_64/egg/EGG-INFO\n",
            "copying spoken_to_written.egg-info/SOURCES.txt -> build/bdist.linux-x86_64/egg/EGG-INFO\n",
            "copying spoken_to_written.egg-info/dependency_links.txt -> build/bdist.linux-x86_64/egg/EGG-INFO\n",
            "copying spoken_to_written.egg-info/top_level.txt -> build/bdist.linux-x86_64/egg/EGG-INFO\n",
            "zip_safe flag not set; analyzing archive contents...\n",
            "creating dist\n",
            "creating 'dist/spoken_to_written-0.1-py3.6.egg' and adding 'build/bdist.linux-x86_64/egg' to it\n",
            "removing 'build/bdist.linux-x86_64/egg' (and everything under it)\n",
            "Processing spoken_to_written-0.1-py3.6.egg\n",
            "Copying spoken_to_written-0.1-py3.6.egg to /usr/local/lib/python3.6/dist-packages\n",
            "Adding spoken-to-written 0.1 to easy-install.pth file\n",
            "\n",
            "Installed /usr/local/lib/python3.6/dist-packages/spoken_to_written-0.1-py3.6.egg\n",
            "Processing dependencies for spoken-to-written==0.1\n",
            "Finished processing dependencies for spoken-to-written==0.1\n"
          ],
          "name": "stdout"
        }
      ]
    },
    {
      "cell_type": "code",
      "metadata": {
        "colab": {
          "base_uri": "https://localhost:8080/"
        },
        "id": "A5cptrs5HHm0",
        "outputId": "5718db0e-fab3-43a7-c2b0-fc852a083b4b"
      },
      "source": [
        "import spoken_to_written as sw\r\n",
        "\r\n",
        "sw.spoken_2_written('this is a demo paragraph which checks our library examples are triple two followed by ninety dollars followed by five p m')"
      ],
      "execution_count": null,
      "outputs": [
        {
          "output_type": "stream",
          "text": [
            "'this is demo paragraph which checks our library examples are 222 followed by 90$ followed by 5 pm'\n"
          ],
          "name": "stdout"
        }
      ]
    },
    {
      "cell_type": "code",
      "metadata": {
        "id": "ElFsotiOGs9d"
      },
      "source": [
        ""
      ],
      "execution_count": null,
      "outputs": []
    }
  ]
}